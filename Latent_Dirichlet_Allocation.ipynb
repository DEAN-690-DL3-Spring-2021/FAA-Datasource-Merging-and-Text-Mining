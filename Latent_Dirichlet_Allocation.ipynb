{
  "nbformat": 4,
  "nbformat_minor": 0,
  "metadata": {
    "colab": {
      "name": "Latent Dirichlet Allocation.ipynb",
      "provenance": []
    },
    "kernelspec": {
      "name": "python3",
      "display_name": "Python 3"
    },
    "language_info": {
      "name": "python"
    }
  },
  "cells": [
    {
      "cell_type": "code",
      "metadata": {
        "id": "UutVJvH1X8l1"
      },
      "source": [
        "from sklearn.feature_extraction.text import TfidfVectorizer\n",
        "from sklearn.decomposition import TruncatedSVD\n",
        "from sklearn.pipeline import Pipeline\n",
        "\n",
        "#documents = [\"doc1.txt\", \"doc2.txt\", \"doc3.txt\"] \n",
        "  \n",
        "# raw documents to tf-idf matrix: \n",
        "\n",
        "vectorizer = TfidfVectorizer(stop_words='english', \n",
        "                             use_idf=True, \n",
        "                             smooth_idf=True)\n",
        "\n",
        "# SVD to reduce dimensionality: \n",
        "\n",
        "svd_model = TruncatedSVD(n_components=100,  \n",
        "                         algorithm='randomized',\n",
        "                         n_iter=10)\n",
        "\n",
        "# pipeline of tf-idf + SVD, fit to and applied to documents:\n",
        "\n",
        "svd_transformer = Pipeline([('tfidf', vectorizer), \n",
        "                            ('svd', svd_model)])\n",
        "\n",
        "svd_matrix = svd_transformer.fit_transform(aid_sdr_eon_topic['Remarks'])\n",
        "\n",
        "# svd_matrix can later be used to compare documents, compare words, or compare queries with documents"
      ],
      "execution_count": null,
      "outputs": []
    }
  ]
}