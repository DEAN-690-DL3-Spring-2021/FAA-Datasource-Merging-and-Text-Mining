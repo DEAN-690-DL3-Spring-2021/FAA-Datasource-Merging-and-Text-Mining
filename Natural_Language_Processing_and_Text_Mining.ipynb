{
  "nbformat": 4,
  "nbformat_minor": 0,
  "metadata": {
    "colab": {
      "name": "Natural Language Processing and Text Mining.ipynb",
      "provenance": []
    },
    "kernelspec": {
      "name": "python3",
      "display_name": "Python 3"
    }
  },
  "cells": [
    {
      "cell_type": "code",
      "metadata": {
        "id": "Nn_bdAYlGR42"
      },
      "source": [
        "import pandas as pd\r\n",
        "import numpy as np\r\n",
        "aid_data = pd.read_csv('a2019.csv',encoding='UTF-8',skipinitialspace=True)\r\n",
        "aid_data1 = aid_data\r\n",
        "aid_data = pd.read_csv('a2019.csv',encoding='UTF-8',skipinitialspace=True)\r\n",
        "\r\n",
        "aid_data1 = aid_data\r\n",
        "\r\n",
        "aid_data1.columns= aid_data1.columns.str.strip()\r\n",
        "\r\n",
        "# aid_data1 = aid_data1.dropna(subset=['c5'],how='all')\r\n",
        "\r\n",
        "aid_data1 = aid_data1.drop(aid_data1.columns[[-1,-2]],axis=1)\r\n",
        "\r\n",
        "fil = aid_data1['c5'].str.contains(r'^[a-zA-Z]')\r\n",
        "\r\n",
        "aid_data1 = aid_data1[~fil]\r\n",
        "\r\n",
        "aid_data1.reset_index(drop=True,inplace=True)\r\n",
        "\r\n",
        "aid_data1['c9'] = pd.to_datetime(aid_data1['c9'].astype(str), format='%Y%m%d',errors='coerce')\r\n",
        "aid_data1['c205'] = pd.to_datetime(aid_data1['c205'].astype(str), format='%Y%m%d',errors='coerce')\r\n",
        "aid_data1['c206'] = pd.to_datetime(aid_data1['c206'].astype(str), format='%Y%m%d',errors='coerce')\r\n",
        "aid_data1['c207'] = pd.to_datetime(aid_data1['c207'].astype(str), format='%Y%m%d',errors='coerce')\r\n",
        "aid_data1['c208'] = pd.to_datetime(aid_data1['c208'].astype(str), format='%Y%m%d',errors='coerce')\r\n",
        "aid_data1['c210'] = pd.to_datetime(aid_data1['c210'].astype(str), format='%Y%m%d',errors='coerce')\r\n",
        "aid_data1['c229'] = pd.to_datetime(aid_data1['c229'].astype(str), format='%Y%m%d',errors='coerce')\r\n",
        "aid_data1['c230'] = pd.to_datetime(aid_data1['c230'].astype(str), format='%Y%m%d',errors='coerce')\r\n",
        "aid_data1['c10'] = pd.to_datetime(aid_data1['c10'].astype(str),format= '%H%M.0',errors='coerce').dt.strftime('%H:%M')\r\n",
        "\r\n",
        "aid_data1[aid_data1.columns[79:95]] = aid_data1[aid_data1.columns[79:95]].fillna(0)\r\n",
        "\r\n",
        "for col in aid_data1.columns[80:93].values:\r\n",
        "    aid_data1[col] = aid_data1[col].astype('int64')\r\n",
        "\r\n",
        "aid_data1[['c149','c151','c145']] = aid_data1[['c149','c151','c145']].fillna(0).astype(int).astype(str).replace('0','NaN')\r\n",
        "\r\n",
        "aid_data1.rename(columns={'c9': 'Date_Of_Occurrence', 'c22': 'N_Number'}, inplace=True)\r\n",
        "\r\n",
        "aid_data1 = aid_data1.add_suffix('_aid').rename(columns={'Report_Type_aid': 'Report_Type', 'Date_Of_Occurrence_aid': 'Date_Of_Occurrence','N_Number_aid':'N_Number'})\r\n",
        "\r\n",
        "aid_data1.insert(0,'Report_Type','AID')\r\n",
        "    \r\n",
        "# aid_data1[aid_data1.columns[79:95]]"
      ],
      "execution_count": 9,
      "outputs": []
    },
    {
      "cell_type": "code",
      "metadata": {
        "id": "ucEXg8wEHVqO"
      },
      "source": [
        "aid_data1_a = aid_data1[['Report_Type','c5_aid']]"
      ],
      "execution_count": 10,
      "outputs": []
    },
    {
      "cell_type": "code",
      "metadata": {
        "colab": {
          "base_uri": "https://localhost:8080/"
        },
        "id": "kMuBB2uEHYom",
        "outputId": "9d6cb0df-6db8-4788-e541-708c38bbb2a2"
      },
      "source": [
        "aid_data1_a.shape"
      ],
      "execution_count": 11,
      "outputs": [
        {
          "output_type": "execute_result",
          "data": {
            "text/plain": [
              "(2391, 2)"
            ]
          },
          "metadata": {
            "tags": []
          },
          "execution_count": 11
        }
      ]
    },
    {
      "cell_type": "code",
      "metadata": {
        "colab": {
          "base_uri": "https://localhost:8080/"
        },
        "id": "Ilw7vmEJHd4c",
        "outputId": "52bbbf0f-25e8-4638-d846-691939534ac0"
      },
      "source": [
        "import more_itertools as mit\r\n",
        "e_aid_data = pd.read_csv('e2019(possible).csv',encoding='UTF-8',skipinitialspace=True)\r\n",
        "e_aid_data1= e_aid_data\r\n",
        "\r\n",
        "e_aid_data1 = e_aid_data1.dropna(subset=['c5'],how='all')\r\n",
        "\r\n",
        "e_aid_data1['remark'] = e_aid_data1[['remark','Unnamed: 2','Unnamed: 3','Unnamed: 4','Unnamed: 5','Unnamed: 6','Unnamed: 7','Unnamed: 8','Unnamed: 9']].replace('?','').fillna('').agg(' '.join, axis=1)\r\n",
        "e_aid_data1 = e_aid_data1.drop(e_aid_data1.columns[[2,3,4,5,6,7,8,9]],axis=1)\r\n",
        "\r\n",
        "e_aid_data1.reset_index(drop=True,inplace=True)\r\n",
        "\r\n",
        "e_aid_data1['remark']= e_aid_data1['remark'].replace(r'^\\s*$', np.nan, regex=True)\r\n",
        "\r\n",
        "e_aid_data1['remark']= e_aid_data1['remark'].mask(pd.isnull, e_aid_data1['c5'])\r\n",
        "\r\n",
        "\r\n",
        "fill = e_aid_data1['c5'].str.contains(r'^\\b2019')\r\n",
        "\r\n",
        "e_aid_data1['c5'][fill==False] = np.nan\r\n",
        "\r\n",
        "q=[index for index, row in e_aid_data1.iterrows() if row.isnull().any()]\r\n",
        "\r\n",
        "q=[list(group) for group in mit.consecutive_groups(q)]\r\n",
        "\r\n",
        "for i in q:\r\n",
        "    t=''\r\n",
        "    s=i[0]\r\n",
        "    for j in i:\r\n",
        "        t+=(e_aid_data1.iloc[j]['remark'])\r\n",
        "        t+=' '\r\n",
        "    e_aid_data1.iloc[s-1]['remark']+=t\r\n",
        "        \r\n",
        "e_aid_data1 = e_aid_data1[pd.notnull(e_aid_data1['c5'])]\r\n",
        "\r\n",
        "e_aid_data1.reset_index(drop=True,inplace=True)\r\n",
        "\r\n",
        "e_aid_data1.rename(columns={'c5':'c5_aid','remark': 'Remarks'},inplace=True)\r\n",
        "\r\n",
        "e_aid_data1['Remarks'] = e_aid_data1['Remarks'].str.replace('\\^PRIVACY DATA OMITTED\\^', '').str.strip().str.replace('\\s+', ' ', regex=True)\r\n",
        "\r\n",
        "# e_aid_data1['Remarks'] = e_aid_data1['Remarks'].str.replace('iaw srm dwg', '').str.strip().str.replace('\\s+', ' ', regex=True)\r\n",
        "\r\n",
        "# e_aid_data1 = e_aid_data1.add_suffix('_aid')\r\n",
        "\r\n",
        "e_aid_data1.insert(0,'Report_Type','AID')\r\n",
        "\r\n",
        "e_aid_data1\r\n",
        "e_aid_data1.shape"
      ],
      "execution_count": 12,
      "outputs": [
        {
          "output_type": "stream",
          "text": [
            "/usr/local/lib/python3.7/dist-packages/ipykernel_launcher.py:7: SettingWithCopyWarning: \n",
            "A value is trying to be set on a copy of a slice from a DataFrame.\n",
            "Try using .loc[row_indexer,col_indexer] = value instead\n",
            "\n",
            "See the caveats in the documentation: https://pandas.pydata.org/pandas-docs/stable/user_guide/indexing.html#returning-a-view-versus-a-copy\n",
            "  import sys\n"
          ],
          "name": "stderr"
        },
        {
          "output_type": "execute_result",
          "data": {
            "text/plain": [
              "(2408, 3)"
            ]
          },
          "metadata": {
            "tags": []
          },
          "execution_count": 12
        }
      ]
    },
    {
      "cell_type": "code",
      "metadata": {
        "colab": {
          "base_uri": "https://localhost:8080/",
          "height": 419
        },
        "id": "xMXZCDiRH160",
        "outputId": "3a71869a-6816-4c28-c2df-d2f5d7246a0f"
      },
      "source": [
        "aid_data1_nlp = pd.merge(aid_data1_a, e_aid_data1, how=\"outer\", on=[\"Report_Type\", \"c5_aid\"])\r\n",
        "\r\n",
        "aid_data1_nlp = aid_data1_nlp[['Report_Type','Remarks']]\r\n",
        "\r\n",
        "aid_data1_nlp"
      ],
      "execution_count": 13,
      "outputs": [
        {
          "output_type": "execute_result",
          "data": {
            "text/html": [
              "<div>\n",
              "<style scoped>\n",
              "    .dataframe tbody tr th:only-of-type {\n",
              "        vertical-align: middle;\n",
              "    }\n",
              "\n",
              "    .dataframe tbody tr th {\n",
              "        vertical-align: top;\n",
              "    }\n",
              "\n",
              "    .dataframe thead th {\n",
              "        text-align: right;\n",
              "    }\n",
              "</style>\n",
              "<table border=\"1\" class=\"dataframe\">\n",
              "  <thead>\n",
              "    <tr style=\"text-align: right;\">\n",
              "      <th></th>\n",
              "      <th>Report_Type</th>\n",
              "      <th>Remarks</th>\n",
              "    </tr>\n",
              "  </thead>\n",
              "  <tbody>\n",
              "    <tr>\n",
              "      <th>0</th>\n",
              "      <td>AID</td>\n",
              "      <td>THE PILOT OBTAINED LOCAL AUTOMATED WEATHER REP...</td>\n",
              "    </tr>\n",
              "    <tr>\n",
              "      <th>1</th>\n",
              "      <td>AID</td>\n",
              "      <td>DEPARTED TRL FOR FLIGHT TO GLADEWATER. CLIMBED...</td>\n",
              "    </tr>\n",
              "    <tr>\n",
              "      <th>2</th>\n",
              "      <td>AID</td>\n",
              "      <td>ON NOVEMBER 25, 2019, AT APPROXIMATELY 1130 EA...</td>\n",
              "    </tr>\n",
              "    <tr>\n",
              "      <th>3</th>\n",
              "      <td>AID</td>\n",
              "      <td>THE PILOT/OWNER WAS INTENDING TO MAKE A SHORT ...</td>\n",
              "    </tr>\n",
              "    <tr>\n",
              "      <th>4</th>\n",
              "      <td>AID</td>\n",
              "      <td>A PORTION OF THE PROPELLER SEPARATED FROM AIRC...</td>\n",
              "    </tr>\n",
              "    <tr>\n",
              "      <th>...</th>\n",
              "      <td>...</td>\n",
              "      <td>...</td>\n",
              "    </tr>\n",
              "    <tr>\n",
              "      <th>2403</th>\n",
              "      <td>AID</td>\n",
              "      <td>ON MONDAY, MAY 13, 2019 AT APPROXIMATELY 1221 ...</td>\n",
              "    </tr>\n",
              "    <tr>\n",
              "      <th>2404</th>\n",
              "      <td>AID</td>\n",
              "      <td>ON JUNE 1, 2019, ABOUT 2030 CENTRAL STANDARD T...</td>\n",
              "    </tr>\n",
              "    <tr>\n",
              "      <th>2405</th>\n",
              "      <td>AID</td>\n",
              "      <td>WHILE ON APPROACH TO LANDING, N72LB, A LINSTRA...</td>\n",
              "    </tr>\n",
              "    <tr>\n",
              "      <th>2406</th>\n",
              "      <td>AID</td>\n",
              "      <td>PILOT FAILED TO MAINTAIN DIRECTIONAL CONTROL O...</td>\n",
              "    </tr>\n",
              "    <tr>\n",
              "      <th>2407</th>\n",
              "      <td>AID</td>\n",
              "      <td>ON JULY 20, 2019, N13YZ BEECHCRAFT A36 SERIAL ...</td>\n",
              "    </tr>\n",
              "  </tbody>\n",
              "</table>\n",
              "<p>2408 rows × 2 columns</p>\n",
              "</div>"
            ],
            "text/plain": [
              "     Report_Type                                            Remarks\n",
              "0            AID  THE PILOT OBTAINED LOCAL AUTOMATED WEATHER REP...\n",
              "1            AID  DEPARTED TRL FOR FLIGHT TO GLADEWATER. CLIMBED...\n",
              "2            AID  ON NOVEMBER 25, 2019, AT APPROXIMATELY 1130 EA...\n",
              "3            AID  THE PILOT/OWNER WAS INTENDING TO MAKE A SHORT ...\n",
              "4            AID  A PORTION OF THE PROPELLER SEPARATED FROM AIRC...\n",
              "...          ...                                                ...\n",
              "2403         AID  ON MONDAY, MAY 13, 2019 AT APPROXIMATELY 1221 ...\n",
              "2404         AID  ON JUNE 1, 2019, ABOUT 2030 CENTRAL STANDARD T...\n",
              "2405         AID  WHILE ON APPROACH TO LANDING, N72LB, A LINSTRA...\n",
              "2406         AID  PILOT FAILED TO MAINTAIN DIRECTIONAL CONTROL O...\n",
              "2407         AID  ON JULY 20, 2019, N13YZ BEECHCRAFT A36 SERIAL ...\n",
              "\n",
              "[2408 rows x 2 columns]"
            ]
          },
          "metadata": {
            "tags": []
          },
          "execution_count": 13
        }
      ]
    },
    {
      "cell_type": "code",
      "metadata": {
        "id": "2tddIaGdIeWM"
      },
      "source": [
        "aid_data1_nlp.Remarks[aid_data1_nlp.Remarks.str.contains('(SMOKE)|(FUMES)|(FIRE)|(ODORS)|(SPARKE)')]"
      ],
      "execution_count": null,
      "outputs": []
    },
    {
      "cell_type": "code",
      "metadata": {
        "id": "gTC5VHAmIgnk"
      },
      "source": [
        "aid_data1_nlp.Remarks[aid_data1_nlp.Remarks.str.contains('(BIRD STRIKE)')]"
      ],
      "execution_count": null,
      "outputs": []
    },
    {
      "cell_type": "code",
      "metadata": {
        "id": "6URhMC6IIjdM"
      },
      "source": [
        "sdr_data = pd.read_csv('sdr(2019_Occurred_Incidents).csv',encoding='UTF-8',skipinitialspace=True,dtype=str)\r\n",
        "sdr_data1 = sdr_data\r\n",
        "\r\n",
        "sdr_data1 = sdr_data1.dropna(subset=['c25'],how='all')\r\n",
        "\r\n",
        "sdr_data1 = sdr_data1.drop(sdr_data1.columns[[-1,-2,-3,0]],axis=1)\r\n",
        "sdr_data1.columns= sdr_data1.columns.str.strip()\r\n",
        "\r\n",
        "sdr_data1['c10'] = pd.to_datetime(sdr_data1['c10'].astype(str), format='%Y%m%d',errors='coerce')\r\n",
        "sdr_data1['c25'] = pd.to_datetime(sdr_data1['c25'].astype(str), format='%Y%m%d',errors='coerce')\r\n",
        "\r\n",
        "sdr_data1['Remarks'] = sdr_data1[['c510a','c510b','c510c','c510d','c510e','c510f']].fillna('').agg(' '.join, axis=1)\r\n",
        "\r\n",
        "sdr_data1['Remarks']= sdr_data1['Remarks'].str.strip().str.replace('\\s+', ' ', regex=True)\r\n",
        "\r\n",
        "sdr_data1.drop(['c510a', 'c510b','c510c','c510d','c510e','c510f'], axis=1, inplace=True)\r\n",
        "\r\n",
        "sdr_data1.rename(columns={'c25': 'Date_Of_Occurrence', 'c390': 'N_Number'}, inplace=True)\r\n",
        "\r\n",
        "sdr_data1 = sdr_data1.add_suffix('_sdr').rename(columns={'Report_Type_sdr': 'Report_Type', 'Date_Of_Occurrence_sdr': 'Date_Of_Occurrence','N_Number_sdr':'N_Number','Remarks_sdr':'Remarks'})\r\n",
        "\r\n",
        "sdr_data1.insert(0,'Report_Type','SDR')\r\n"
      ],
      "execution_count": 16,
      "outputs": []
    },
    {
      "cell_type": "code",
      "metadata": {
        "colab": {
          "base_uri": "https://localhost:8080/"
        },
        "id": "u0sp_rh1I1mM",
        "outputId": "8f9e2bc5-e991-4348-e355-84efb22076d5"
      },
      "source": [
        "eon_data = pd.read_csv('EON-2019(Jan-Mar).csv',encoding='UTF-8',skipinitialspace=True)\r\n",
        "eon_data1 = eon_data\r\n",
        "eon_data1.columns= eon_data1.columns.str.strip()\r\n",
        "\r\n",
        "eon_data1['Event Date'] = pd.to_datetime(eon_data1['Event Date'])\r\n",
        "eon_data1['Event Time'] = eon_data1['Event Date'].dt.strftime('%H:%M')\r\n",
        "eon_data1['Event Date'] = eon_data1['Event Date'].dt.strftime('%Y-%m-%d')\r\n",
        "\r\n",
        "eon_data1['Event Date'] = pd.to_datetime(eon_data1['Event Date'])\r\n",
        "\r\n",
        "cols = eon_data1.columns.tolist()\r\n",
        "cols = cols[0:5]+cols[-1:]+cols[5:36]\r\n",
        "eon_data1 = eon_data1[cols]\r\n",
        "\r\n",
        "eon_data1['Message Whole'] = eon_data1[['MessageText.1','Unnamed: 30','Unnamed: 31','Unnamed: 32','Unnamed: 33','Unnamed: 34','Unnamed: 35']].fillna('').agg(' '.join, axis=1)\r\n",
        "\r\n",
        "eon_data1['Message Whole'] = eon_data1['Message Whole'].str.strip().str.replace('\\s+', ' ', regex=True)\r\n",
        "\r\n",
        "eon_data1.rename(columns={'Message Whole': 'Remarks','Event Date': 'Date_Of_Occurrence'},inplace=True)\r\n",
        "\r\n",
        "cols1 = eon_data1.columns.tolist()\r\n",
        "cols1 = cols1[0:29] + cols1[-1:]\r\n",
        "\r\n",
        "eon_data1 = eon_data1[cols1]\r\n",
        "\r\n",
        "eon_data1['N_Number'] = eon_data1['Title'].str.extract(r'((?<=\\|).+?(?=\\|))')\r\n",
        "\r\n",
        "eon_data1['N_Number'] = eon_data1['N_Number'].str.strip()\r\n",
        "\r\n",
        "fil = eon_data1['N_Number'].str.contains('^N[0-9]')\r\n",
        "\r\n",
        "eon_data1['N_Number'][fil==True] = eon_data1['N_Number'][fil==True].apply(lambda x : x[1:] if str(x).startswith(\"N\") else x)\r\n",
        "\r\n",
        "eon_data1.insert(0,'Report_Type','EON')\r\n",
        "\r\n",
        "# eon_data1.drop(['Title'], axis=1, inplace=True)\r\n"
      ],
      "execution_count": 17,
      "outputs": [
        {
          "output_type": "stream",
          "text": [
            "/usr/local/lib/python3.7/dist-packages/ipykernel_launcher.py:15: SettingWithCopyWarning: \n",
            "A value is trying to be set on a copy of a slice from a DataFrame.\n",
            "Try using .loc[row_indexer,col_indexer] = value instead\n",
            "\n",
            "See the caveats in the documentation: https://pandas.pydata.org/pandas-docs/stable/user_guide/indexing.html#returning-a-view-versus-a-copy\n",
            "  from ipykernel import kernelapp as app\n",
            "/usr/local/lib/python3.7/dist-packages/ipykernel_launcher.py:17: SettingWithCopyWarning: \n",
            "A value is trying to be set on a copy of a slice from a DataFrame.\n",
            "Try using .loc[row_indexer,col_indexer] = value instead\n",
            "\n",
            "See the caveats in the documentation: https://pandas.pydata.org/pandas-docs/stable/user_guide/indexing.html#returning-a-view-versus-a-copy\n",
            "/usr/local/lib/python3.7/dist-packages/pandas/core/frame.py:4308: SettingWithCopyWarning: \n",
            "A value is trying to be set on a copy of a slice from a DataFrame\n",
            "\n",
            "See the caveats in the documentation: https://pandas.pydata.org/pandas-docs/stable/user_guide/indexing.html#returning-a-view-versus-a-copy\n",
            "  errors=errors,\n",
            "/usr/local/lib/python3.7/dist-packages/ipykernel_launcher.py:32: SettingWithCopyWarning: \n",
            "A value is trying to be set on a copy of a slice from a DataFrame\n",
            "\n",
            "See the caveats in the documentation: https://pandas.pydata.org/pandas-docs/stable/user_guide/indexing.html#returning-a-view-versus-a-copy\n"
          ],
          "name": "stderr"
        }
      ]
    },
    {
      "cell_type": "code",
      "metadata": {
        "colab": {
          "base_uri": "https://localhost:8080/"
        },
        "id": "BQQgT-Y1I8Jk",
        "outputId": "95f8e72e-50d6-4ba9-b21b-0de768f0e043"
      },
      "source": [
        "sdr_data1_nlp = sdr_data1[['Report_Type','Remarks']]\r\n",
        "\r\n",
        "eon_data1_nlp = eon_data1[['Report_Type','Remarks']]\r\n",
        "\r\n",
        "eon_data1_nlp.Remarks = eon_data1_nlp.Remarks.str.lstrip(',').str.strip()"
      ],
      "execution_count": 18,
      "outputs": [
        {
          "output_type": "stream",
          "text": [
            "/usr/local/lib/python3.7/dist-packages/pandas/core/generic.py:5170: SettingWithCopyWarning: \n",
            "A value is trying to be set on a copy of a slice from a DataFrame.\n",
            "Try using .loc[row_indexer,col_indexer] = value instead\n",
            "\n",
            "See the caveats in the documentation: https://pandas.pydata.org/pandas-docs/stable/user_guide/indexing.html#returning-a-view-versus-a-copy\n",
            "  self[name] = value\n"
          ],
          "name": "stderr"
        }
      ]
    },
    {
      "cell_type": "code",
      "metadata": {
        "colab": {
          "base_uri": "https://localhost:8080/"
        },
        "id": "tUJ3D0FsJCFE",
        "outputId": "b89319a9-edf6-4c57-d2fd-ed6e741e46db"
      },
      "source": [
        "sdr_data1_nlp.Remarks[sdr_data1_nlp.Remarks.str.contains('(BIRD STRIKE)')]"
      ],
      "execution_count": 19,
      "outputs": [
        {
          "output_type": "stream",
          "text": [
            "/usr/local/lib/python3.7/dist-packages/pandas/core/strings.py:2001: UserWarning: This pattern has match groups. To actually get the groups, use str.extract.\n",
            "  return func(self, *args, **kwargs)\n"
          ],
          "name": "stderr"
        },
        {
          "output_type": "execute_result",
          "data": {
            "text/plain": [
              "4651     AIRCRAFT WAS GROUNDED: PILOT REPORTS BIRD INGE...\n",
              "8405     AIRCRAFT WAS GROUNDED: MAINTENANCE REPORTS EVI...\n",
              "8775     AIRCRAFT WAS NOT GROUNDED: AT APPROXIMATLEY 87...\n",
              "16752    WE HAD A BIRD STRIKE AT 5000 FEET AND 250 KNOT...\n",
              "22375    IMMEDIATELY AFTER TAKEOFF GOT A BURNING SMELL ...\n",
              "25617    MDIS 917 57-50 0329 14MAY19 LGG OPEN U REF WRI...\n",
              "28224    STRONG PROPANE ODOR AFT GALLEY IN CRUISE. APPL...\n",
              "29175    ATB - BIRD STRIKE ON DEPARTURE. RIGHT SIDE OF ...\n",
              "40679    BIRD STRIKE ON T/O ROLL ON NOSE CONE AN 2 RH W...\n",
              "42516    LT FRONT WINDOW CRACKED WHILE ON APPROACH. DOE...\n",
              "45220    DURING CLIMBOUT, STRONG FUMES IN THE CABIN AND...\n",
              "56078    BIRD STRIKE RIGHT ENGINE(<P>PERFORMED&NBSP; #2...\n",
              "56097    MOMENTARY WX FAIL AFTER BIRD STRIKE.(<P>ACCOMP...\n",
              "58715    (CAN) CREW REPORTED A LOUD BANG AND VIBRATION ...\n",
              "Name: Remarks, dtype: object"
            ]
          },
          "metadata": {
            "tags": []
          },
          "execution_count": 19
        }
      ]
    },
    {
      "cell_type": "code",
      "metadata": {
        "colab": {
          "base_uri": "https://localhost:8080/"
        },
        "id": "_05L5180JGj8",
        "outputId": "7be65952-af19-47e1-890f-1a18ce6187c9"
      },
      "source": [
        "sdr_data1_nlp.Remarks[sdr_data1_nlp.Remarks.str.contains('(SMOKE)|(FUMES)|(FIRE)|(ODORS)|(SPARKE)')]"
      ],
      "execution_count": 20,
      "outputs": [
        {
          "output_type": "stream",
          "text": [
            "/usr/local/lib/python3.7/dist-packages/pandas/core/strings.py:2001: UserWarning: This pattern has match groups. To actually get the groups, use str.extract.\n",
            "  return func(self, *args, **kwargs)\n"
          ],
          "name": "stderr"
        },
        {
          "output_type": "execute_result",
          "data": {
            "text/plain": [
              "3        RH ENGINE FIRE LOOP 1 DISPLAYED ON EICAS ON PR...\n",
              "5        IN FLIGHT, AFT CABIN CREW DETAILED A BURNING S...\n",
              "38       AS REPORTED BY THE PIC: WHILE IN FLIGHT NR 2 F...\n",
              "86       FLIGHT# 0117, ELECTRICAL BURNING SMELL IN COCK...\n",
              "146      FLIGHT# 0078, CAPTAIN SIDE HAD NO ABILITY TO C...\n",
              "                               ...                        \n",
              "60533    WHEEL WELL OVERHEAT LIGHT CAME ON WITHOUT AUDI...\n",
              "60552    CORROSION ON THE L/H AND R/H FUSELAGE AT THE E...\n",
              "60573    AIRCRAFT HAS HAD A HISTORY OF SOFT BRAKES, BRA...\n",
              "60681    RETURN FLIGHT KCHO TO KFCI, PILOT ENCOUNTERED ...\n",
              "60788    WE WERE CLIMBING SOMEWHERE IN THE LOW 20’S. WE...\n",
              "Name: Remarks, Length: 1997, dtype: object"
            ]
          },
          "metadata": {
            "tags": []
          },
          "execution_count": 20
        }
      ]
    },
    {
      "cell_type": "code",
      "metadata": {
        "colab": {
          "base_uri": "https://localhost:8080/"
        },
        "id": "9R9m6QrjJKj8",
        "outputId": "4224a9d1-c857-40d1-e103-e0d97ef4cb28"
      },
      "source": [
        "eon_data1_nlp.Remarks[eon_data1_nlp.Remarks.str.contains('(BIRD STRIKE)')]"
      ],
      "execution_count": 21,
      "outputs": [
        {
          "output_type": "stream",
          "text": [
            "/usr/local/lib/python3.7/dist-packages/pandas/core/strings.py:2001: UserWarning: This pattern has match groups. To actually get the groups, use str.extract.\n",
            "  return func(self, *args, **kwargs)\n"
          ],
          "name": "stderr"
        },
        {
          "output_type": "execute_result",
          "data": {
            "text/plain": [
              "6       E145, AVP-ORD, ABORTED TAKEOFF AND RETURNED TO...\n",
              "13      B737, SMFBIRD STRIKE ROLL OUT RWY 34L. TAXIED ...\n",
              "24      MD88, ATL-MEM, REPORTED A BIRD STRIKE LANDING ...\n",
              "41      B739, SEA-SJC, REPORTED AN BIRD STRIKE DURING ...\n",
              "64      A332, REPORTED A POSSIBLE BIRD STRIKE DEPARTIN...\n",
              "                              ...                        \n",
              "9427    B772, IAD-EGLL, REPORTED A BIRD STRIKE AFTER D...\n",
              "9433    E75L, PILOT REPORTED A BIRD STRIKE ON TOUCHDOW...\n",
              "9440    B752, RST-MEM, REPORTED A BIRD STRIKE ON A 1 M...\n",
              "9482    CRJ7, CLT-AGS, REPORTED A BIRD STRIKE ON LANDI...\n",
              "9535    B738, ORD-MSY, PILOT REPORTED BIRD STRIKE WHIL...\n",
              "Name: Remarks, Length: 375, dtype: object"
            ]
          },
          "metadata": {
            "tags": []
          },
          "execution_count": 21
        }
      ]
    },
    {
      "cell_type": "code",
      "metadata": {
        "colab": {
          "base_uri": "https://localhost:8080/"
        },
        "id": "vyMYOiIwJPUc",
        "outputId": "d3ce05d3-8248-48e8-e69f-a13f34ea2308"
      },
      "source": [
        "eon_data1_nlp.Remarks[eon_data1_nlp.Remarks.str.contains('(SMOKE)|(FUMES)|(FIRE)|(ODORS)|(SPARKE)')]"
      ],
      "execution_count": 22,
      "outputs": [
        {
          "output_type": "stream",
          "text": [
            "/usr/local/lib/python3.7/dist-packages/pandas/core/strings.py:2001: UserWarning: This pattern has match groups. To actually get the groups, use str.extract.\n",
            "  return func(self, *args, **kwargs)\n"
          ],
          "name": "stderr"
        },
        {
          "output_type": "execute_result",
          "data": {
            "text/plain": [
              "22      B737, WAS ON FINAL TO RWY34L, HE REPORTED A FI...\n",
              "37      B737, STL-SAT, DECLARED AN EMERGENCY FOR ASYME...\n",
              "62      A321, DFW-SAN, DECLARED AN EMERGENCY AND DIVER...\n",
              "125     C172, LANDED RY17L WITH OUT INCIDENT AFTER DEC...\n",
              "180     CRJ9, OKC-DTW, ABORTED TAKEOFF ON RUNWAY 35R D...\n",
              "                              ...                        \n",
              "9528    C172, REPORTED A ELECTRICAL FIRE AND SMOKE IN ...\n",
              "9581    RV7, PRIOR TO DEPARTURE IN RUN-UP AREA, BRAKE ...\n",
              "9592    C130, RAIDR02, A C130 TAXIED OUT TO RWY 25L AT...\n",
              "9649    CJ3, REPORTED A POSSIBLE ENGINE FIRE WHILE STA...\n",
              "9660    B772, EHAM-JFK, REPORTED AN ENGINE FIRE INDICA...\n",
              "Name: Remarks, Length: 327, dtype: object"
            ]
          },
          "metadata": {
            "tags": []
          },
          "execution_count": 22
        }
      ]
    },
    {
      "cell_type": "code",
      "metadata": {
        "colab": {
          "base_uri": "https://localhost:8080/",
          "height": 419
        },
        "id": "3dld-FSbJlpE",
        "outputId": "37879703-1f88-469e-94df-597300966311"
      },
      "source": [
        "aid_sdr_eon_nlp = aid_data1_nlp.append([sdr_data1_nlp, eon_data1_nlp])\r\n",
        "\r\n",
        "aid_sdr_eon_nlp.reset_index(drop=True,inplace=True)\r\n",
        "\r\n",
        "aid_sdr_eon_nlp.columns = aid_sdr_eon_nlp.columns.str.strip().str.replace('\\s+', ' ', regex=True)\r\n",
        "\r\n",
        "aid_sdr_eon_nlp"
      ],
      "execution_count": 23,
      "outputs": [
        {
          "output_type": "execute_result",
          "data": {
            "text/html": [
              "<div>\n",
              "<style scoped>\n",
              "    .dataframe tbody tr th:only-of-type {\n",
              "        vertical-align: middle;\n",
              "    }\n",
              "\n",
              "    .dataframe tbody tr th {\n",
              "        vertical-align: top;\n",
              "    }\n",
              "\n",
              "    .dataframe thead th {\n",
              "        text-align: right;\n",
              "    }\n",
              "</style>\n",
              "<table border=\"1\" class=\"dataframe\">\n",
              "  <thead>\n",
              "    <tr style=\"text-align: right;\">\n",
              "      <th></th>\n",
              "      <th>Report_Type</th>\n",
              "      <th>Remarks</th>\n",
              "    </tr>\n",
              "  </thead>\n",
              "  <tbody>\n",
              "    <tr>\n",
              "      <th>0</th>\n",
              "      <td>AID</td>\n",
              "      <td>THE PILOT OBTAINED LOCAL AUTOMATED WEATHER REP...</td>\n",
              "    </tr>\n",
              "    <tr>\n",
              "      <th>1</th>\n",
              "      <td>AID</td>\n",
              "      <td>DEPARTED TRL FOR FLIGHT TO GLADEWATER. CLIMBED...</td>\n",
              "    </tr>\n",
              "    <tr>\n",
              "      <th>2</th>\n",
              "      <td>AID</td>\n",
              "      <td>ON NOVEMBER 25, 2019, AT APPROXIMATELY 1130 EA...</td>\n",
              "    </tr>\n",
              "    <tr>\n",
              "      <th>3</th>\n",
              "      <td>AID</td>\n",
              "      <td>THE PILOT/OWNER WAS INTENDING TO MAKE A SHORT ...</td>\n",
              "    </tr>\n",
              "    <tr>\n",
              "      <th>4</th>\n",
              "      <td>AID</td>\n",
              "      <td>A PORTION OF THE PROPELLER SEPARATED FROM AIRC...</td>\n",
              "    </tr>\n",
              "    <tr>\n",
              "      <th>...</th>\n",
              "      <td>...</td>\n",
              "      <td>...</td>\n",
              "    </tr>\n",
              "    <tr>\n",
              "      <th>73135</th>\n",
              "      <td>EON</td>\n",
              "      <td>EVIATION REPORTED BY ORF WHEN PAT092, C560, FA...</td>\n",
              "    </tr>\n",
              "    <tr>\n",
              "      <th>73136</th>\n",
              "      <td>EON</td>\n",
              "      <td>EVIATION REPORTED BY ZMP WHEN N339MK, P28A/G, ...</td>\n",
              "    </tr>\n",
              "    <tr>\n",
              "      <th>73137</th>\n",
              "      <td>EON</td>\n",
              "      <td>EVIATION REPORTED BY ZAB WHEN OXF165, P28A, CL...</td>\n",
              "    </tr>\n",
              "    <tr>\n",
              "      <th>73138</th>\n",
              "      <td>EON</td>\n",
              "      <td>EVIATION REPORTED BY SCT WHEN SKW3264, CRJ7, T...</td>\n",
              "    </tr>\n",
              "    <tr>\n",
              "      <th>73139</th>\n",
              "      <td>EON</td>\n",
              "      <td>AIRBUS EC130, LATE REPORT</td>\n",
              "    </tr>\n",
              "  </tbody>\n",
              "</table>\n",
              "<p>73140 rows × 2 columns</p>\n",
              "</div>"
            ],
            "text/plain": [
              "      Report_Type                                            Remarks\n",
              "0             AID  THE PILOT OBTAINED LOCAL AUTOMATED WEATHER REP...\n",
              "1             AID  DEPARTED TRL FOR FLIGHT TO GLADEWATER. CLIMBED...\n",
              "2             AID  ON NOVEMBER 25, 2019, AT APPROXIMATELY 1130 EA...\n",
              "3             AID  THE PILOT/OWNER WAS INTENDING TO MAKE A SHORT ...\n",
              "4             AID  A PORTION OF THE PROPELLER SEPARATED FROM AIRC...\n",
              "...           ...                                                ...\n",
              "73135         EON  EVIATION REPORTED BY ORF WHEN PAT092, C560, FA...\n",
              "73136         EON  EVIATION REPORTED BY ZMP WHEN N339MK, P28A/G, ...\n",
              "73137         EON  EVIATION REPORTED BY ZAB WHEN OXF165, P28A, CL...\n",
              "73138         EON  EVIATION REPORTED BY SCT WHEN SKW3264, CRJ7, T...\n",
              "73139         EON                          AIRBUS EC130, LATE REPORT\n",
              "\n",
              "[73140 rows x 2 columns]"
            ]
          },
          "metadata": {
            "tags": []
          },
          "execution_count": 23
        }
      ]
    },
    {
      "cell_type": "code",
      "metadata": {
        "colab": {
          "base_uri": "https://localhost:8080/"
        },
        "id": "7EpRIAKGJnds",
        "outputId": "a4aae5c8-fb58-42f1-db12-d9053aeec23d"
      },
      "source": [
        "import re\r\n",
        "import unicodedata\r\n",
        "import nltk\r\n",
        "from nltk.corpus import stopwords\r\n",
        "nltk.download('stopwords')\r\n",
        "nltk.download('wordnet')\r\n",
        "import matplotlib.pyplot as plt\r\n",
        "# add appropriate words that will be ignored in the analysis\r\n",
        "# ADDITIONAL_STOPWORDS = ['covfefe']"
      ],
      "execution_count": 24,
      "outputs": [
        {
          "output_type": "stream",
          "text": [
            "[nltk_data] Downloading package stopwords to /root/nltk_data...\n",
            "[nltk_data]   Unzipping corpora/stopwords.zip.\n",
            "[nltk_data] Downloading package wordnet to /root/nltk_data...\n",
            "[nltk_data]   Unzipping corpora/wordnet.zip.\n"
          ],
          "name": "stdout"
        }
      ]
    },
    {
      "cell_type": "code",
      "metadata": {
        "id": "3Uq48EfFJsqV"
      },
      "source": [
        "def basic_clean(text):\r\n",
        "  \"\"\"\r\n",
        "  A simple function to clean up the data. All the words that\r\n",
        "  are not designated as a stop word is then lemmatized after\r\n",
        "  encoding and basic regex parsing are performed.\r\n",
        "  \"\"\"\r\n",
        "  wnl = nltk.stem.WordNetLemmatizer()\r\n",
        "  stopwords = nltk.corpus.stopwords.words('english')\r\n",
        "  text = (unicodedata.normalize('NFKD', text)\r\n",
        "    .encode('ascii', 'ignore')\r\n",
        "    .decode('utf-8', 'ignore')\r\n",
        "    .lower())\r\n",
        "  words = re.sub(r'[^\\w\\s]', '', text).split()\r\n",
        "  return [wnl.lemmatize(word) for word in words if word not in stopwords]"
      ],
      "execution_count": 25,
      "outputs": []
    },
    {
      "cell_type": "code",
      "metadata": {
        "id": "mHGcu6DzJw1b"
      },
      "source": [
        "words_aid = basic_clean(''.join(str(aid_data1_nlp['Remarks'].tolist())))"
      ],
      "execution_count": 26,
      "outputs": []
    },
    {
      "cell_type": "code",
      "metadata": {
        "id": "G7FgYJXpJ1Ir"
      },
      "source": [
        "words_sdr = basic_clean(''.join(str(sdr_data1['Remarks'].tolist())))"
      ],
      "execution_count": 27,
      "outputs": []
    },
    {
      "cell_type": "code",
      "metadata": {
        "id": "ivWXotLMJ6E7"
      },
      "source": [
        "words_eon = basic_clean(''.join(str(eon_data1['Remarks'].tolist())))"
      ],
      "execution_count": 28,
      "outputs": []
    },
    {
      "cell_type": "code",
      "metadata": {
        "id": "QkREw2liJ-IU"
      },
      "source": [
        "words_eon = basic_clean(''.join(str(eon_data1['Remarks'].tolist())))"
      ],
      "execution_count": 29,
      "outputs": []
    },
    {
      "cell_type": "code",
      "metadata": {
        "colab": {
          "base_uri": "https://localhost:8080/"
        },
        "id": "lYWzuKDFKDXk",
        "outputId": "50ea2320-8bcb-4658-88a0-4a5f055632cc"
      },
      "source": [
        "(pd.Series(nltk.ngrams(words_aid, 1)).value_counts())[:60]"
      ],
      "execution_count": 30,
      "outputs": [
        {
          "output_type": "execute_result",
          "data": {
            "text/plain": [
              "(aircraft,)         6173\n",
              "(pilot,)            4400\n",
              "(runway,)           2811\n",
              "(landing,)          2510\n",
              "(gear,)             2017\n",
              "(flight,)           1976\n",
              "(left,)             1683\n",
              "(airport,)          1570\n",
              "(right,)            1527\n",
              "(engine,)           1453\n",
              "(damage,)           1365\n",
              "(approximately,)    1315\n",
              "(time,)             1116\n",
              "(wing,)             1002\n",
              "(stated,)            960\n",
              "(nose,)              921\n",
              "(ground,)            865\n",
              "(2019,)              843\n",
              "(fuel,)              811\n",
              "(foot,)              785\n",
              "(power,)             746\n",
              "(injury,)            700\n",
              "(landed,)            672\n",
              "(airplane,)          666\n",
              "(main,)              629\n",
              "(reported,)          623\n",
              "(control,)           606\n",
              "(passenger,)         573\n",
              "(accident,)          569\n",
              "(pic,)               560\n",
              "(back,)              530\n",
              "(approach,)          527\n",
              "(field,)             523\n",
              "(departed,)          522\n",
              "(wind,)              520\n",
              "(student,)           493\n",
              "(propeller,)         490\n",
              "(side,)              486\n",
              "(takeoff,)           480\n",
              "(condition,)         463\n",
              "(land,)              461\n",
              "(came,)              446\n",
              "(area,)              437\n",
              "(struck,)            423\n",
              "(impact,)            415\n",
              "(mile,)              398\n",
              "(minor,)             393\n",
              "(made,)              391\n",
              "(light,)             391\n",
              "(incident,)          391\n",
              "(sustained,)         386\n",
              "(one,)               385\n",
              "(two,)               369\n",
              "(rest,)              366\n",
              "(turn,)              365\n",
              "(emergency,)         363\n",
              "(due,)               359\n",
              "(grass,)             353\n",
              "(upon,)              334\n",
              "(wheel,)             333\n",
              "dtype: int64"
            ]
          },
          "metadata": {
            "tags": []
          },
          "execution_count": 30
        }
      ]
    },
    {
      "cell_type": "code",
      "metadata": {
        "colab": {
          "base_uri": "https://localhost:8080/"
        },
        "id": "50OO72iDKKOc",
        "outputId": "a517145c-955c-4755-8330-563f49fecefd"
      },
      "source": [
        "(pd.Series(nltk.ngrams(words_sdr, 1)).value_counts())[:60]"
      ],
      "execution_count": 31,
      "outputs": [
        {
          "output_type": "execute_result",
          "data": {
            "text/plain": [
              "(iaw,)            30097\n",
              "(per,)            26373\n",
              "(srm,)            22529\n",
              "(amm,)            22193\n",
              "(replaced,)       21455\n",
              "(door,)           16320\n",
              "(found,)          15841\n",
              "(check,)          13497\n",
              "(aft,)            13286\n",
              "(removed,)        12876\n",
              "(light,)          12685\n",
              "(corrosion,)      12492\n",
              "(aircraft,)       12425\n",
              "(floor,)          11960\n",
              "(b,)              11842\n",
              "(1,)              11237\n",
              "(repair,)         10947\n",
              "(2,)              10356\n",
              "(emergency,)      10315\n",
              "(maintenance,)     9298\n",
              "(panel,)           9168\n",
              "(ops,)             9041\n",
              "(cargo,)           8210\n",
              "(cracked,)         8179\n",
              "(ref,)             7783\n",
              "(good,)            7756\n",
              "(grounded,)        7713\n",
              "(rr,)              7449\n",
              "(repaired,)        7306\n",
              "(inspection,)      7233\n",
              "(wing,)            7026\n",
              "(corroded,)        6983\n",
              "(sta,)             6902\n",
              "(cabin,)           6864\n",
              "(performed,)       6844\n",
              "(fwd,)             6706\n",
              "(seat,)            6674\n",
              "(support,)         6542\n",
              "(test,)            6451\n",
              "(engine,)          6323\n",
              "(lower,)           6264\n",
              "(rh,)              6038\n",
              "(left,)            6009\n",
              "(nr,)              5757\n",
              "(area,)            5676\n",
              "(side,)            5531\n",
              "(lh,)              5506\n",
              "(rt,)              5455\n",
              "(track,)           5426\n",
              "(frame,)           5330\n",
              "(f,)               5318\n",
              "(fault,)           5267\n",
              "(flight,)          5137\n",
              "(right,)           5092\n",
              "(pack,)            4979\n",
              "(dwg,)             4881\n",
              "(forward,)         4844\n",
              "(pn,)              4760\n",
              "(upper,)           4690\n",
              "(lt,)              4673\n",
              "dtype: int64"
            ]
          },
          "metadata": {
            "tags": []
          },
          "execution_count": 31
        }
      ]
    },
    {
      "cell_type": "code",
      "metadata": {
        "colab": {
          "base_uri": "https://localhost:8080/"
        },
        "id": "s5ZbsIUlKNdr",
        "outputId": "975c9e73-1708-4fda-fb7e-827f3ce84daf"
      },
      "source": [
        "(pd.Series(nltk.ngrams(words_eon, 1)).value_counts())[:60]"
      ],
      "execution_count": 32,
      "outputs": [
        {
          "output_type": "execute_result",
          "data": {
            "text/plain": [
              "(reported,)       4788\n",
              "(landed,)         3900\n",
              "(aircraft,)       3496\n",
              "(without,)        3469\n",
              "(incident,)       3250\n",
              "(due,)            2747\n",
              "(emergency,)      2526\n",
              "(runway,)         2399\n",
              "(taxied,)         1689\n",
              "(issue,)          1540\n",
              "(medical,)        1533\n",
              "(takeoff,)        1494\n",
              "(passenger,)      1384\n",
              "(eviation,)       1339\n",
              "(declared,)       1270\n",
              "(aborted,)        1267\n",
              "(pilot,)          1188\n",
              "(foot,)           1130\n",
              "(gate,)           1110\n",
              "(returned,)       1039\n",
              "(rwy,)            1022\n",
              "(ramp,)           1003\n",
              "(notified,)        921\n",
              "(engine,)          847\n",
              "(acft,)            837\n",
              "(damage,)          812\n",
              "(loss,)            801\n",
              "(landing,)         766\n",
              "(departed,)        718\n",
              "(gear,)            706\n",
              "(separation,)      704\n",
              "(atc,)             658\n",
              "(back,)            658\n",
              "(bird,)            647\n",
              "(flight,)          640\n",
              "(injury,)          624\n",
              "(reporting,)       615\n",
              "(c172,)            611\n",
              "(laser,)           598\n",
              "(departure,)       593\n",
              "(pob,)             585\n",
              "(mile,)            566\n",
              "(b738,)            536\n",
              "(diverted,)        521\n",
              "(green,)           518\n",
              "(b737,)            513\n",
              "(a320,)            485\n",
              "(bound,)           478\n",
              "(strike,)          434\n",
              "(left,)            432\n",
              "(requested,)       432\n",
              "(light,)           431\n",
              "(illuminated,)     411\n",
              "(final,)           393\n",
              "(assigned,)        382\n",
              "(airport,)         376\n",
              "(safely,)          374\n",
              "(pd,)              368\n",
              "(indication,)      367\n",
              "(2,)               366\n",
              "dtype: int64"
            ]
          },
          "metadata": {
            "tags": []
          },
          "execution_count": 32
        }
      ]
    },
    {
      "cell_type": "code",
      "metadata": {
        "id": "H1M8fLl0KRI8"
      },
      "source": [
        ""
      ],
      "execution_count": null,
      "outputs": []
    }
  ]
}