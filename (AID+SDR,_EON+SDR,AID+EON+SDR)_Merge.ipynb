{
  "nbformat": 4,
  "nbformat_minor": 0,
  "metadata": {
    "colab": {
      "name": "(AID+SDR, EON+SDR,AID+EON+SDR) Merge.ipynb",
      "provenance": []
    },
    "kernelspec": {
      "name": "python3",
      "display_name": "Python 3"
    },
    "language_info": {
      "name": "python"
    }
  },
  "cells": [
    {
      "cell_type": "code",
      "metadata": {
        "id": "84dSqbMGTdrB"
      },
      "source": [
        "aid_sdr_merge = pd.merge(aid_trial, sdr_trial,on=[\"N_Number\"])\n",
        "aid_sdr_merge\n",
        "\n",
        "aid_sdr_merge[aid_sdr_merge.duplicated()]"
      ],
      "execution_count": null,
      "outputs": []
    },
    {
      "cell_type": "code",
      "metadata": {
        "id": "YjN7co1KTh1S"
      },
      "source": [
        "aid_sdr_merge.c24_aid = aid_sdr_merge.c24_aid.str.replace('-','').str.strip().str.replace(' ', '', regex=True).astype(str)\n",
        "aid_sdr_merge.c140_sdr = aid_sdr_merge.c140_sdr.str.strip().str.replace(' ', '', regex=True).astype(str)\n",
        "aid_sdr_merge.c130_sdr = aid_sdr_merge.c130_sdr.str.strip().str.replace(' ', '', regex=True).astype(str)\n",
        "aid_sdr_merge"
      ],
      "execution_count": null,
      "outputs": []
    },
    {
      "cell_type": "code",
      "metadata": {
        "id": "uWKct5ILTh4I"
      },
      "source": [
        "for i in range(len(aid_sdr_merge)):\n",
        "    if aid_sdr_merge.loc[i,'c24_aid'].startswith(aid_sdr_merge.loc[i,'c140_sdr']) | aid_sdr_merge.loc[i,'c24_aid'].startswith(aid_sdr_merge.loc[i,'c130_sdr']):\n",
        "        aid_sdr_merge.loc[i,'c24_aid'] = aid_sdr_merge.loc[i,'c140_sdr']\n",
        "aid_sdr_merge"
      ],
      "execution_count": null,
      "outputs": []
    },
    {
      "cell_type": "code",
      "metadata": {
        "id": "tliu2iLmTh6w"
      },
      "source": [
        "aid_sdr_merge.loc[0,'c24_aid']"
      ],
      "execution_count": null,
      "outputs": []
    },
    {
      "cell_type": "code",
      "metadata": {
        "id": "FFvn_dKcTh9Z"
      },
      "source": [
        "len(aid_sdr_merge)"
      ],
      "execution_count": null,
      "outputs": []
    },
    {
      "cell_type": "code",
      "metadata": {
        "id": "g4Y2dpZTTiAR"
      },
      "source": [
        "aid_sdr_merge_sameDOC = aid_sdr_merge[aid_sdr_merge['Date_Of_Occurrence_x']==aid_sdr_merge['Date_Of_Occurrence_y']]\n",
        "aid_sdr_merge_sameDOC"
      ],
      "execution_count": null,
      "outputs": []
    },
    {
      "cell_type": "code",
      "metadata": {
        "id": "iL22pc0ETiDJ"
      },
      "source": [
        "len(aid_sdr_merge_sameDOC)"
      ],
      "execution_count": null,
      "outputs": []
    },
    {
      "cell_type": "code",
      "metadata": {
        "id": "s2lpQ-CyT2GQ"
      },
      "source": [
        "len(aid_sdr_merge1)"
      ],
      "execution_count": null,
      "outputs": []
    },
    {
      "cell_type": "code",
      "metadata": {
        "id": "VCtFGRlXT2JQ"
      },
      "source": [
        "len(aid_trial) + len(sdr_trial)"
      ],
      "execution_count": null,
      "outputs": []
    },
    {
      "cell_type": "code",
      "metadata": {
        "id": "_iuQxf3zT2L4"
      },
      "source": [
        "aid_sdr_eon_merge = pd.merge(aid_sdr_merge, eon_trial,on=\"N_Number\")\n",
        "aid_sdr_eon_merge"
      ],
      "execution_count": null,
      "outputs": []
    },
    {
      "cell_type": "code",
      "metadata": {
        "id": "q5uZgtHoT2OY"
      },
      "source": [
        "aid_sdr_eon_merge.loc[2,'Remarks']"
      ],
      "execution_count": null,
      "outputs": []
    },
    {
      "cell_type": "code",
      "metadata": {
        "id": "OqKD2-15UHZp"
      },
      "source": [
        "aid_sdr_eon_sameDOC_merge.query('Date_Of_Occurrence_x==Date_Of_Occurrence')"
      ],
      "execution_count": null,
      "outputs": []
    },
    {
      "cell_type": "code",
      "metadata": {
        "id": "zDdPV00iUHcY"
      },
      "source": [
        "sdr_eon_merge = pd.merge(sdr_trial, eon_trial, on=\"N_Number\")\n",
        "# sdr_eon_merge"
      ],
      "execution_count": null,
      "outputs": []
    },
    {
      "cell_type": "code",
      "metadata": {
        "id": "wtZIi5RLUHfR"
      },
      "source": [
        "sdr_eon_merge1 = sdr_eon_merge[~sdr_eon_merge['N_Number'].isna()]\n",
        "sdr_eon_merge1"
      ],
      "execution_count": null,
      "outputs": []
    },
    {
      "cell_type": "code",
      "metadata": {
        "id": "5obMQuiNUHiA"
      },
      "source": [
        "sdr_eon_merge1.query('Date_Of_Occurrence_x==Date_Of_Occurrence_y')"
      ],
      "execution_count": null,
      "outputs": []
    }
  ]
}