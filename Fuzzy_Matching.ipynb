{
  "nbformat": 4,
  "nbformat_minor": 0,
  "metadata": {
    "colab": {
      "name": "Fuzzy Matching.ipynb",
      "provenance": []
    },
    "kernelspec": {
      "name": "python3",
      "display_name": "Python 3"
    },
    "language_info": {
      "name": "python"
    }
  },
  "cells": [
    {
      "cell_type": "code",
      "metadata": {
        "id": "cgl551cGVGho"
      },
      "source": [
        "pip install fuzzymatcher"
      ],
      "execution_count": null,
      "outputs": []
    },
    {
      "cell_type": "code",
      "metadata": {
        "id": "HkCTH_C5VJNS"
      },
      "source": [
        "aid_fuzzy = aid_data1[['Report_Type','c5_aid','Date_Of_Occurrence','c13_aid','c23_aid','c24_aid','c95_aid','N_Number','Remarks']]\n",
        "\n",
        "sdr_fuzzy = sdr_data1[['Report_Type','c14_sdr','c18_sdr','Date_Of_Occurrence','c130_sdr','c140_sdr','c100_sdr','c250_sdr','c260_sdr','c332_sdr','N_Number','Remarks']]\n",
        "\n",
        "eon_fuzzy = eon_data1[['Report_Type','Id','Date_Of_Occurrence','N_Number','Aircraft Type','Remarks']]"
      ],
      "execution_count": null,
      "outputs": []
    },
    {
      "cell_type": "code",
      "metadata": {
        "id": "ZeLoKnt7VJQQ"
      },
      "source": [
        "aid_fuzzy.columns.to_list()"
      ],
      "execution_count": null,
      "outputs": []
    },
    {
      "cell_type": "code",
      "metadata": {
        "id": "MoTEZ-3mVJSx"
      },
      "source": [
        "sdr_fuzzy.columns.to_list()"
      ],
      "execution_count": null,
      "outputs": []
    },
    {
      "cell_type": "code",
      "metadata": {
        "id": "MbaXSgwEVJVq"
      },
      "source": [
        "eon_fuzzy.columns.to_list()"
      ],
      "execution_count": null,
      "outputs": []
    },
    {
      "cell_type": "code",
      "metadata": {
        "id": "H5Us36AHVJYY"
      },
      "source": [
        "aid_fuzzy['Aircraft_Type'] = aid_fuzzy['c23_aid'] + ' '+ aid_fuzzy['c24_aid']\n",
        "aid_fuzzy['Aircraft_Type'] = aid_fuzzy['Aircraft_Type'].str.strip().str.replace('\\s+', ' ', regex=True).astype(str)\n",
        "aid_fuzzy['Aircraft_Type']\n",
        "\n",
        "aid_fuzzy = aid_fuzzy.drop(['c23_aid','c24_aid'],axis=1)\n",
        "\n",
        "aid_fuzzy.rename(columns={'Date_Of_Occurrence': 'Date_Of_Occurrence_aid', 'N_Number': 'N_Number_aid','Aircraft_Type':'Aircraft_Type_aid','Remarks':'Remarks_aid'}, inplace=True)"
      ],
      "execution_count": null,
      "outputs": []
    },
    {
      "cell_type": "code",
      "metadata": {
        "id": "cda1Ln-lVVnQ"
      },
      "source": [
        "sdr_fuzzy['Aircraft_Type'] = sdr_fuzzy['c130_sdr'] + ' '+ sdr_fuzzy['c140_sdr']\n",
        "sdr_fuzzy['Aircraft_Type'] = sdr_fuzzy['Aircraft_Type'].str.strip().str.replace('\\s+', ' ', regex=True).astype(str)\n",
        "sdr_fuzzy['Aircraft_Type']\n",
        "\n",
        "sdr_fuzzy['Defective_Part_Description'] = sdr_fuzzy['c100_sdr'] + ' ' + sdr_fuzzy['c250_sdr'] + ' ' + sdr_fuzzy['c260_sdr']\n",
        "sdr_fuzzy['Defective_Part_Description'] = sdr_fuzzy['Defective_Part_Description'].str.strip().str.replace('\\s+', ' ', regex=True).astype(str)\n",
        "sdr_fuzzy['Defective_Part_Description']\n",
        "\n",
        "sdr_fuzzy = sdr_fuzzy.drop(['c100_sdr','c130_sdr','c140_sdr','c250_sdr','c260_sdr'],axis=1)\n",
        "\n",
        "sdr_fuzzy['c18_sdr'] = sdr_fuzzy['c18_sdr'].str.replace('\\W', '')\n",
        "\n",
        "sdr_fuzzy.rename(columns={'Date_Of_Occurrence': 'Date_Of_Occurrence_sdr', 'N_Number': 'N_Number_sdr','Aircraft_Type':'Aircraft_Type_sdr','Remarks':'Remarks_sdr'}, inplace=True)"
      ],
      "execution_count": null,
      "outputs": []
    },
    {
      "cell_type": "code",
      "metadata": {
        "id": "hHbezIwOVVqg"
      },
      "source": [
        "import fuzzymatcher"
      ],
      "execution_count": null,
      "outputs": []
    },
    {
      "cell_type": "code",
      "metadata": {
        "id": "fDopudjJVVtI"
      },
      "source": [
        "fil = eon_fuzzy['N_Number'].str.contains(r'^[A-Z]',na=False)\n",
        "eon_fuzzy = eon_fuzzy[~fil]\n",
        "\n",
        "eon_fuzzy.reset_index(drop=True,inplace=True)\n",
        "\n",
        "eon_fuzzy.rename(columns={'Date_Of_Occurrence': 'Date_Of_Occurrence_eon', 'N_Number': 'N_Number_eon','Aircraft Type':'Aircraft_Type_eon','Remarks':'Remarks_eon'}, inplace=True)\n",
        "\n",
        "eon_fuzzy"
      ],
      "execution_count": null,
      "outputs": []
    },
    {
      "cell_type": "code",
      "metadata": {
        "id": "aTH9Bx8aVdsI"
      },
      "source": [
        "left_on = [\"Date_Of_Occurrence_aid\", \"Aircraft_Type_aid\", \"N_Number_aid\"]\n",
        "\n",
        "right_on = [\"Date_Of_Occurrence_eon\", \"Aircraft_Type_eon\", \"N_Number_eon\"]\n",
        "\n",
        "matched_results = fuzzymatcher.fuzzy_left_join(aid_fuzzy,\n",
        "                                            eon_fuzzy,\n",
        "                                            left_on,\n",
        "                                            right_on,\n",
        "                                            left_id_col='c5_aid',\n",
        "                                            right_id_col='Id')\n",
        "\n",
        "cols = [\"best_match_score\", 'c5_aid', 'Id', \"Date_Of_Occurrence_aid\", \"Date_Of_Occurrence_eon\", \"Aircraft_Type_aid\", \"Aircraft_Type_eon\",\n",
        "        \"N_Number_aid\", \"N_Number_eon\",\"Remarks_aid\",\"Remarks_eon\"]\n",
        "\n",
        "matched_results[cols].sort_values(by=['best_match_score'], ascending=False).head(10)"
      ],
      "execution_count": null,
      "outputs": []
    },
    {
      "cell_type": "code",
      "metadata": {
        "id": "h35BVofGVd1w"
      },
      "source": [
        "left_on = [\"Date_Of_Occurrence_eon\", \"Aircraft_Type_eon\", \"N_Number_eon\"]\n",
        "\n",
        "right_on = [\"Date_Of_Occurrence_sdr\", \"Aircraft_Type_sdr\", \"N_Number_sdr\"]\n",
        "\n",
        "matched_results = fuzzymatcher.fuzzy_left_join(eon_fuzzy,\n",
        "                                            sdr_fuzzy,\n",
        "                                            left_on,\n",
        "                                            right_on,\n",
        "                                            left_id_col='Id',\n",
        "                                            right_id_col='c18_sdr')\n",
        "\n",
        "cols = [\"best_match_score\", 'Id', 'c18_sdr', \"Date_Of_Occurrence_eon\", \"Date_Of_Occurrence_sdr\", \"Aircraft_Type_eon\", \"Aircraft_Type_sdr\",\n",
        "        \"N_Number_eon\", \"N_Number_sdr\",\"Remarks_eon\",\"Remarks_sdr\"]\n",
        "\n",
        "matched_results[cols].sort_values(by=['best_match_score'], ascending=False).head(10)"
      ],
      "execution_count": null,
      "outputs": []
    }
  ]
}